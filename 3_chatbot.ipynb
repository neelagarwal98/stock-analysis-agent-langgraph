{
 "cells": [
  {
   "metadata": {},
   "cell_type": "markdown",
   "source": [
    "# LangGraph Chatbot\n",
    "This notebook wraps a LangGraph `StateGraph` in a conversational loop using Google Gemini‑2.0‑Flash as the LLM.\n",
    "It will:\n",
    "1. Maintain a message history state.\n",
    "2. Invoke the LLM to generate replies.\n",
    "3. Print a chat‑style interaction."
   ],
   "id": "43c69e1937addc9c"
  },
  {
   "cell_type": "code",
   "id": "initial_id",
   "metadata": {
    "collapsed": true,
    "ExecuteTime": {
     "end_time": "2025-08-25T14:43:31.406009Z",
     "start_time": "2025-08-25T14:43:31.394432Z"
    }
   },
   "source": [
    "from typing import TypedDict, Annotated\n",
    "from langchain.chat_models import init_chat_model\n",
    "from langgraph.graph import StateGraph, START, END\n",
    "from langgraph.graph.message import add_messages\n",
    "\n",
    "# Load environment variables (e.g., LLM credentials) from a .env file\n",
    "from dotenv import load_dotenv\n",
    "load_dotenv()"
   ],
   "outputs": [
    {
     "data": {
      "text/plain": [
       "True"
      ]
     },
     "execution_count": 5,
     "metadata": {},
     "output_type": "execute_result"
    }
   ],
   "execution_count": 5
  },
  {
   "metadata": {
    "ExecuteTime": {
     "end_time": "2025-08-25T14:43:31.421901Z",
     "start_time": "2025-08-25T14:43:31.407013Z"
    }
   },
   "cell_type": "code",
   "source": [
    "# Instantiate the LLM (Google Gemini 2.0 Flash) via LangChain\n",
    "llm = init_chat_model(\"google_genai:gemini-2.0-flash\")\n",
    "\n",
    "class State(TypedDict):\n",
    "    \"\"\"\n",
    "    Conversation state schema:\n",
    "    - messages: list of dicts with 'role' and 'content' for LLM context\n",
    "    \"\"\"\n",
    "    messages: Annotated[list, add_messages]\n",
    "\n",
    "def chatbot(state: State) -> State:\n",
    "    \"\"\"\n",
    "    Node that invokes LLM on state[\"messages\"] and returns a new state.\n",
    "    \"\"\"\n",
    "    return {\"messages\": [llm.invoke(state[\"messages\"])]}\n",
    "\n",
    "builder = StateGraph(State)\n",
    "\n",
    "# Add a single node named \"chatbot_node\" running our chatbot() function\n",
    "builder.add_node(\"chatbot_node\", chatbot)\n",
    "\n",
    "# Wire START → chatbot_node → END\n",
    "builder.add_edge(START, \"chatbot_node\")\n",
    "builder.add_edge(\"chatbot_node\", END)\n",
    "\n",
    "# Compile into an executable StateGraph\n",
    "graph = builder.compile()"
   ],
   "id": "c4060cf79f59cd77",
   "outputs": [],
   "execution_count": 6
  },
  {
   "metadata": {
    "ExecuteTime": {
     "end_time": "2025-08-25T14:43:31.830893Z",
     "start_time": "2025-08-25T14:43:31.424076Z"
    }
   },
   "cell_type": "code",
   "source": [
    "# Test the graph once: ask a simple factual question\n",
    "message = {\"role\": \"user\", \"content\": \"Who walked on the moon for the first time? Print only the name\"}\n",
    "response = graph.invoke({\"messages\": [message]})\n",
    "\n",
    "response['messages']"
   ],
   "id": "6e9689f5838a5d4e",
   "outputs": [
    {
     "data": {
      "text/plain": [
       "[HumanMessage(content='Who walked on the moon for the first time? Print only the name', additional_kwargs={}, response_metadata={}, id='afa5e80a-3fd0-4d93-a284-6084b1a7eac8'),\n",
       " AIMessage(content='Neil Armstrong', additional_kwargs={}, response_metadata={'prompt_feedback': {'block_reason': 0, 'safety_ratings': []}, 'finish_reason': 'STOP', 'model_name': 'gemini-2.0-flash', 'safety_ratings': []}, id='run--17239452-11de-4ec1-ac3a-dfc21d2c70c0-0', usage_metadata={'input_tokens': 14, 'output_tokens': 3, 'total_tokens': 17, 'input_token_details': {'cache_read': 0}})]"
      ]
     },
     "execution_count": 7,
     "metadata": {},
     "output_type": "execute_result"
    }
   ],
   "execution_count": 7
  },
  {
   "metadata": {},
   "cell_type": "markdown",
   "source": [
    "## Interactive Chat Loop\n",
    "Start a REPL to chat continuously.\n",
    "Type `quit` or `exit` to end the session."
   ],
   "id": "ca33dba2ac7e6199"
  },
  {
   "metadata": {
    "ExecuteTime": {
     "end_time": "2025-08-25T14:44:09.592435Z",
     "start_time": "2025-08-25T14:43:31.839707Z"
    }
   },
   "cell_type": "code",
   "source": [
    "# Begin an interactive chat loop (type \"quit\" or \"exit\" to stop)\n",
    "state = None\n",
    "while True:\n",
    "    # Read user input\n",
    "    in_message = input(\"You: \")\n",
    "    print(\"Human:\", in_message)\n",
    "    if in_message.lower() in {\"quit\", \"exit\"}:\n",
    "        break\n",
    "\n",
    "    # Initialize state on the first message\n",
    "    if state is None:\n",
    "        state: State = {\n",
    "            \"messages\" : [{\"role\": \"user\", \"content\": in_message}]\n",
    "        }\n",
    "    else:\n",
    "        # Append each new user message\n",
    "        state[\"messages\"].append({\"role\":\"user\", \"content\": in_message})\n",
    "\n",
    "    # Invoke the graph to get the assistant’s reply\n",
    "    state = graph.invoke(state)\n",
    "    # Print out the assistant’s latest response\n",
    "    print(\"Bot:\", state[\"messages\"][-1].content)"
   ],
   "id": "85e15bf3c5e56f5b",
   "outputs": [
    {
     "name": "stdout",
     "output_type": "stream",
     "text": [
      "Human: Who walked on the moon for the first time?\n",
      "Bot: Neil Armstrong was the first person to walk on the moon.\n",
      "Human: What is the current stock price of Amazon?\n",
      "Bot: I am unable to provide real-time stock prices. Stock prices change constantly.\n",
      "\n",
      "To get the current stock price of Amazon (AMZN), I recommend checking a reliable source such as:\n",
      "\n",
      "*   **Google Finance:** Search \"Amazon stock price\" on Google.\n",
      "*   **Yahoo Finance:** finance.yahoo.com\n",
      "*   **Bloomberg:** bloomberg.com\n",
      "*   **Your Brokerage Account:** If you have a brokerage account, the price will be displayed there.\n",
      "Human: quit\n"
     ]
    }
   ],
   "execution_count": 8
  }
 ],
 "metadata": {
  "kernelspec": {
   "display_name": "Python 3",
   "language": "python",
   "name": "python3"
  },
  "language_info": {
   "codemirror_mode": {
    "name": "ipython",
    "version": 2
   },
   "file_extension": ".py",
   "mimetype": "text/x-python",
   "name": "python",
   "nbconvert_exporter": "python",
   "pygments_lexer": "ipython2",
   "version": "2.7.6"
  }
 },
 "nbformat": 4,
 "nbformat_minor": 5
}
